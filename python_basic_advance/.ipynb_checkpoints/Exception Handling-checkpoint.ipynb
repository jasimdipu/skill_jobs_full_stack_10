{
 "cells": [
  {
   "cell_type": "code",
   "execution_count": 1,
   "id": "4354d9e1",
   "metadata": {},
   "outputs": [
    {
     "data": {
      "text/plain": [
       "5.0"
      ]
     },
     "execution_count": 1,
     "metadata": {},
     "output_type": "execute_result"
    }
   ],
   "source": [
    "100/20"
   ]
  },
  {
   "cell_type": "code",
   "execution_count": 2,
   "id": "ca8e8740",
   "metadata": {},
   "outputs": [
    {
     "data": {
      "text/plain": [
       "2.0"
      ]
     },
     "execution_count": 2,
     "metadata": {},
     "output_type": "execute_result"
    }
   ],
   "source": [
    "20/10"
   ]
  },
  {
   "cell_type": "code",
   "execution_count": 3,
   "id": "aed79b1c",
   "metadata": {},
   "outputs": [
    {
     "name": "stdout",
     "output_type": "stream",
     "text": [
      "division by zero\n"
     ]
    }
   ],
   "source": [
    "# try | except/catch\n",
    "try:\n",
    "    print(50/0)\n",
    "except Exception as e:\n",
    "    print(e)"
   ]
  },
  {
   "cell_type": "code",
   "execution_count": 4,
   "id": "2446c293",
   "metadata": {},
   "outputs": [
    {
     "data": {
      "text/plain": [
       "15.0"
      ]
     },
     "execution_count": 4,
     "metadata": {},
     "output_type": "execute_result"
    }
   ],
   "source": [
    "30/2"
   ]
  },
  {
   "cell_type": "code",
   "execution_count": 18,
   "id": "4768d803",
   "metadata": {},
   "outputs": [
    {
     "name": "stdout",
     "output_type": "stream",
     "text": [
      "Plase enter a number0\n",
      "division by zero\n"
     ]
    }
   ],
   "source": [
    "try:\n",
    "    number = input(\"Plase enter a number\")\n",
    "    number = int(number)\n",
    "    print(100/number)\n",
    "except ValueError as e:\n",
    "    print(e)\n",
    "except TypeError as e:\n",
    "    print(e)\n",
    "except ZeroDivisionError as e:\n",
    "    print(e)\n",
    "except Exception as e:\n",
    "    print(e)"
   ]
  },
  {
   "cell_type": "code",
   "execution_count": 11,
   "id": "b0fc1a7f",
   "metadata": {},
   "outputs": [],
   "source": [
    "# dir(Exception)"
   ]
  },
  {
   "cell_type": "code",
   "execution_count": null,
   "id": "408e9869",
   "metadata": {},
   "outputs": [],
   "source": [
    "def get_number(number):\n",
    "    try:\n",
    "        number = input(\"Plase enter a number\")\n",
    "        number = int(number)\n",
    "        print(100/number)\n",
    "    except ValueError as e:\n",
    "        print(e)\n",
    "    except TypeError as e:\n",
    "        print(e)\n",
    "    except ZeroDivisionError as e:\n",
    "        print(e)\n",
    "    except Exception as e:\n",
    "        print(e)"
   ]
  }
 ],
 "metadata": {
  "kernelspec": {
   "display_name": "Python 3 (ipykernel)",
   "language": "python",
   "name": "python3"
  },
  "language_info": {
   "codemirror_mode": {
    "name": "ipython",
    "version": 3
   },
   "file_extension": ".py",
   "mimetype": "text/x-python",
   "name": "python",
   "nbconvert_exporter": "python",
   "pygments_lexer": "ipython3",
   "version": "3.9.7"
  }
 },
 "nbformat": 4,
 "nbformat_minor": 5
}
