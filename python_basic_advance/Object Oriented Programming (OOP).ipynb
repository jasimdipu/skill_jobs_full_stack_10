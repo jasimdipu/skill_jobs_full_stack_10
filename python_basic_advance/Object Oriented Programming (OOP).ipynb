{
 "cells": [
  {
   "cell_type": "code",
   "execution_count": 2,
   "id": "0f16f54d",
   "metadata": {},
   "outputs": [],
   "source": [
    "# Class, objects, oop principles-> Abstraction, Encapsualtion, Inheritance, Polymophism"
   ]
  },
  {
   "cell_type": "code",
   "execution_count": 3,
   "id": "8e862196",
   "metadata": {},
   "outputs": [],
   "source": [
    "# class is a collection of objects\n",
    "# class properties -> attr/variables/instance/scope, functions\n",
    "class Example:\n",
    "    pass"
   ]
  },
  {
   "cell_type": "code",
   "execution_count": 4,
   "id": "e0034b6f",
   "metadata": {},
   "outputs": [],
   "source": [
    "example = Example()"
   ]
  },
  {
   "cell_type": "code",
   "execution_count": 5,
   "id": "7665e297",
   "metadata": {},
   "outputs": [
    {
     "data": {
      "text/plain": [
       "<__main__.Example at 0x256c336c7f0>"
      ]
     },
     "execution_count": 5,
     "metadata": {},
     "output_type": "execute_result"
    }
   ],
   "source": [
    "example"
   ]
  },
  {
   "cell_type": "code",
   "execution_count": 20,
   "id": "3390cc5c",
   "metadata": {},
   "outputs": [],
   "source": [
    "class Student:\n",
    "    \n",
    "    # attr/scope/variable/instance\n",
    "    # global scope\n",
    "    name=\"\"\n",
    "    dept=\"\"\n",
    "    \n",
    "    # constructor\n",
    "    def __init__(self, name, dept):\n",
    "        self.name = name\n",
    "        self.dept = dept\n",
    "    \n",
    "    def get_name(self):\n",
    "        return self.name\n",
    "    \n",
    "    def get_dept(self):\n",
    "        return self.dept\n",
    "    \n",
    "    def __str__(self):\n",
    "        return \"Name: \"+self.name+\"\\nDept: \"+self.dept"
   ]
  },
  {
   "cell_type": "code",
   "execution_count": null,
   "id": "0a120758",
   "metadata": {},
   "outputs": [],
   "source": [
    "print()"
   ]
  },
  {
   "cell_type": "code",
   "execution_count": 21,
   "id": "a6a3bbbe",
   "metadata": {},
   "outputs": [],
   "source": [
    "student = Student(\"Afasr\", \"CSE\")"
   ]
  },
  {
   "cell_type": "code",
   "execution_count": 22,
   "id": "f71c8174",
   "metadata": {},
   "outputs": [
    {
     "name": "stdout",
     "output_type": "stream",
     "text": [
      "Name: Afasr\n",
      "Dept: CSE\n"
     ]
    }
   ],
   "source": [
    "print(student)"
   ]
  },
  {
   "cell_type": "code",
   "execution_count": 23,
   "id": "2a284eff",
   "metadata": {},
   "outputs": [
    {
     "data": {
      "text/plain": [
       "'Afasr'"
      ]
     },
     "execution_count": 23,
     "metadata": {},
     "output_type": "execute_result"
    }
   ],
   "source": [
    "student.get_name()"
   ]
  },
  {
   "cell_type": "code",
   "execution_count": 24,
   "id": "b0a363f0",
   "metadata": {},
   "outputs": [
    {
     "data": {
      "text/plain": [
       "'CSE'"
      ]
     },
     "execution_count": 24,
     "metadata": {},
     "output_type": "execute_result"
    }
   ],
   "source": [
    "student.get_dept()"
   ]
  },
  {
   "cell_type": "markdown",
   "id": "23736f14",
   "metadata": {},
   "source": [
    "### OOP Principles"
   ]
  },
  {
   "cell_type": "code",
   "execution_count": 25,
   "id": "37f6cb87",
   "metadata": {},
   "outputs": [],
   "source": [
    "# Abstraction\n",
    "from abc import ABC, abstractmethod"
   ]
  },
  {
   "cell_type": "code",
   "execution_count": 33,
   "id": "66580c8a",
   "metadata": {},
   "outputs": [],
   "source": [
    "class Student(ABC):\n",
    "    \n",
    "    @abstractmethod\n",
    "    def get_name(self):\n",
    "        pass\n",
    "    \n",
    "    @abstractmethod\n",
    "    def set_name(self, name):\n",
    "        pass\n",
    "    \n",
    "    @abstractmethod\n",
    "    def get_dept(self):\n",
    "        pass\n",
    "    \n",
    "    @abstractmethod\n",
    "    def set_dept(self, dept):\n",
    "        pass\n",
    "    "
   ]
  },
  {
   "cell_type": "code",
   "execution_count": 53,
   "id": "5b400e2b",
   "metadata": {},
   "outputs": [],
   "source": [
    "class StudentImpl(Student):\n",
    "    \n",
    "    def __init__(self, name, dept):\n",
    "        self.name = name\n",
    "        self.dept = dept\n",
    "    \n",
    "    def get_name(self):\n",
    "        pass\n",
    "    \n",
    "    \n",
    "    def get_sem(self):\n",
    "        # local scope\n",
    "        semister = \"5th\"\n",
    "        return self.get_info()+semister\n",
    "    \n",
    "    \n",
    "    def set_name(self, name):\n",
    "        pass\n",
    "    \n",
    "    \n",
    "    def get_dept(self):\n",
    "        pass\n",
    "    \n",
    "    \n",
    "    def set_dept(self, dept):\n",
    "        pass\n",
    "    \n",
    "    def get_info(self):\n",
    "        # local func\n",
    "        def give_info():\n",
    "            return self.name+\" \"+self.dept\n",
    "        return give_info()"
   ]
  },
  {
   "cell_type": "code",
   "execution_count": 54,
   "id": "1f1244e6",
   "metadata": {},
   "outputs": [],
   "source": [
    "student = StudentImpl(\"Shahid\", \"IT\")"
   ]
  },
  {
   "cell_type": "code",
   "execution_count": 55,
   "id": "6a47e3c5",
   "metadata": {},
   "outputs": [
    {
     "data": {
      "text/plain": [
       "'Shahid IT'"
      ]
     },
     "execution_count": 55,
     "metadata": {},
     "output_type": "execute_result"
    }
   ],
   "source": [
    "student.get_info()"
   ]
  },
  {
   "cell_type": "code",
   "execution_count": 56,
   "id": "12c8aa8f",
   "metadata": {},
   "outputs": [
    {
     "data": {
      "text/plain": [
       "'Shahid IT5th'"
      ]
     },
     "execution_count": 56,
     "metadata": {},
     "output_type": "execute_result"
    }
   ],
   "source": [
    "student.get_sem()"
   ]
  },
  {
   "cell_type": "code",
   "execution_count": null,
   "id": "46f589e5",
   "metadata": {},
   "outputs": [],
   "source": []
  }
 ],
 "metadata": {
  "kernelspec": {
   "display_name": "Python 3 (ipykernel)",
   "language": "python",
   "name": "python3"
  },
  "language_info": {
   "codemirror_mode": {
    "name": "ipython",
    "version": 3
   },
   "file_extension": ".py",
   "mimetype": "text/x-python",
   "name": "python",
   "nbconvert_exporter": "python",
   "pygments_lexer": "ipython3",
   "version": "3.9.7"
  }
 },
 "nbformat": 4,
 "nbformat_minor": 5
}
