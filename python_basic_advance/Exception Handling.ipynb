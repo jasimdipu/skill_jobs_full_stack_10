{
 "cells": [
  {
   "cell_type": "code",
   "execution_count": 1,
   "id": "73f722e4",
   "metadata": {},
   "outputs": [
    {
     "data": {
      "text/plain": [
       "5.0"
      ]
     },
     "execution_count": 1,
     "metadata": {},
     "output_type": "execute_result"
    }
   ],
   "source": [
    "100/20"
   ]
  },
  {
   "cell_type": "code",
   "execution_count": 2,
   "id": "4cb23044",
   "metadata": {},
   "outputs": [
    {
     "data": {
      "text/plain": [
       "2.0"
      ]
     },
     "execution_count": 2,
     "metadata": {},
     "output_type": "execute_result"
    }
   ],
   "source": [
    "20/10"
   ]
  },
  {
   "cell_type": "code",
   "execution_count": 3,
   "id": "62e4c70b",
   "metadata": {},
   "outputs": [
    {
     "name": "stdout",
     "output_type": "stream",
     "text": [
      "division by zero\n"
     ]
    }
   ],
   "source": [
    "# try | except/catch\n",
    "try:\n",
    "    print(50/0)\n",
    "except Exception as e:\n",
    "    print(e)"
   ]
  },
  {
   "cell_type": "code",
   "execution_count": 4,
   "id": "68f811be",
   "metadata": {},
   "outputs": [
    {
     "data": {
      "text/plain": [
       "15.0"
      ]
     },
     "execution_count": 4,
     "metadata": {},
     "output_type": "execute_result"
    }
   ],
   "source": [
    "30/2"
   ]
  },
  {
   "cell_type": "code",
   "execution_count": 18,
   "id": "f2531d12",
   "metadata": {},
   "outputs": [
    {
     "name": "stdout",
     "output_type": "stream",
     "text": [
      "Plase enter a number0\n",
      "division by zero\n"
     ]
    }
   ],
   "source": [
    "try:\n",
    "    number = input(\"Plase enter a number\")\n",
    "    number = int(number)\n",
    "    print(100/number)\n",
    "except ValueError as e:\n",
    "    print(e)\n",
    "except TypeError as e:\n",
    "    print(e)\n",
    "except ZeroDivisionError as e:\n",
    "    print(e)\n",
    "except Exception as e:\n",
    "    print(e)"
   ]
  },
  {
   "cell_type": "code",
   "execution_count": 11,
   "id": "977ea3f8",
   "metadata": {},
   "outputs": [],
   "source": [
    "# dir(Exception)"
   ]
  },
  {
   "cell_type": "code",
   "execution_count": 19,
   "id": "097869df",
   "metadata": {},
   "outputs": [],
   "source": [
    "def get_number(number):\n",
    "    try:\n",
    "        number = int(number)\n",
    "        print(100/number)\n",
    "    except ValueError as e:\n",
    "        print(e)\n",
    "    except TypeError as e:\n",
    "        print(e)\n",
    "    except ZeroDivisionError as e:\n",
    "        print(e)\n",
    "    except Exception as e:\n",
    "        print(e)"
   ]
  },
  {
   "cell_type": "code",
   "execution_count": 20,
   "id": "a61ebe4c",
   "metadata": {},
   "outputs": [
    {
     "name": "stdout",
     "output_type": "stream",
     "text": [
      "1.0\n"
     ]
    }
   ],
   "source": [
    "get_number(100)"
   ]
  },
  {
   "cell_type": "code",
   "execution_count": 24,
   "id": "ae96ad7f",
   "metadata": {},
   "outputs": [
    {
     "name": "stdout",
     "output_type": "stream",
     "text": [
      "Plase enter a number10\n",
      "10\n",
      "10.0\n",
      "finally the number is 10 from finally block\n"
     ]
    }
   ],
   "source": [
    "# finally block\n",
    "try:\n",
    "    number = input(\"Plase enter a number\")\n",
    "    number = int(number)\n",
    "    print(number)\n",
    "    print(100/number)\n",
    "except ValueError as e:\n",
    "    print(e)\n",
    "except TypeError as e:\n",
    "    print(e)\n",
    "except ZeroDivisionError as e:\n",
    "    print(e)\n",
    "except Exception as e:\n",
    "    print(e)\n",
    "finally:\n",
    "    print(\"finally the number is 10 from finally block\")"
   ]
  },
  {
   "cell_type": "code",
   "execution_count": 26,
   "id": "744e6a7d",
   "metadata": {},
   "outputs": [
    {
     "name": "stdout",
     "output_type": "stream",
     "text": [
      "1005\n",
      "number is bigger then 1000\n",
      "1005\n"
     ]
    }
   ],
   "source": [
    "# limit 100-1000\n",
    "number = int(input())\n",
    "if number < 100:\n",
    "    print(\"number is less then 100\")\n",
    "if number > 1000:\n",
    "    print(\"number is bigger then 1000\")\n",
    "print(number)"
   ]
  },
  {
   "cell_type": "code",
   "execution_count": 28,
   "id": "4581f83f",
   "metadata": {},
   "outputs": [],
   "source": [
    "# custom Exception\n",
    "class SmallerThenNumberException(Exception):\n",
    "    pass\n",
    "class BiggerThenNumberException(Exception):\n",
    "    pass"
   ]
  },
  {
   "cell_type": "code",
   "execution_count": 32,
   "id": "d2dd32c9",
   "metadata": {},
   "outputs": [],
   "source": [
    "def get_number(number):\n",
    "    try:\n",
    "        if number < 100:\n",
    "            raise SmallerThenNumberException\n",
    "    #         print(\"number is less then 100\")\n",
    "        if number > 1000:\n",
    "            raise BiggerThenNumberException\n",
    "    #         print(\"number is bigger then 1000\")\n",
    "        print(number)\n",
    "    except SmallerThenNumberException as e:\n",
    "        print(\"Number is smaller then 100\")\n",
    "    except BiggerThenNumberException as e:\n",
    "        print(\"Number is bigger then 1000\")"
   ]
  },
  {
   "cell_type": "code",
   "execution_count": 33,
   "id": "9d537c86",
   "metadata": {},
   "outputs": [
    {
     "name": "stdout",
     "output_type": "stream",
     "text": [
      "Number is smaller then 100\n"
     ]
    }
   ],
   "source": [
    "get_number(55)"
   ]
  },
  {
   "cell_type": "code",
   "execution_count": 34,
   "id": "b4aee570",
   "metadata": {},
   "outputs": [
    {
     "name": "stdout",
     "output_type": "stream",
     "text": [
      "Number is bigger then 1000\n"
     ]
    }
   ],
   "source": [
    "get_number(10054)"
   ]
  },
  {
   "cell_type": "code",
   "execution_count": 35,
   "id": "09b5edd2",
   "metadata": {},
   "outputs": [],
   "source": [
    "users = [\"example@gmail.com\", \"example2@gmail.com\", \"example3@gmail.com\", \"example4@gmail.com\"]\n",
    "password = [\"12345\",\"12345\",\"12345\",\"12345\",\"12345\",]"
   ]
  },
  {
   "cell_type": "code",
   "execution_count": 36,
   "id": "dd536331",
   "metadata": {},
   "outputs": [],
   "source": [
    "users2 = {\n",
    "    \"user1\":{\n",
    "        \"email\": \"example@gmail.com\",\n",
    "        \"password\": \"12345\",\n",
    "    },\n",
    "    \"user2\":{\n",
    "        \"email\": \"example2@gmail.com\",\n",
    "        \"password\": \"12345\",\n",
    "    },\n",
    "    \"user3\":{\n",
    "        \"email\": \"example3@gmail.com\",\n",
    "        \"password\": \"12345\",\n",
    "    },\n",
    "    \"user4\":{\n",
    "        \"email\": \"example4@gmail.com\",\n",
    "        \"password\": \"12345\",\n",
    "    },\n",
    "}"
   ]
  },
  {
   "cell_type": "code",
   "execution_count": 42,
   "id": "5d1de109",
   "metadata": {},
   "outputs": [
    {
     "data": {
      "text/plain": [
       "{'user1': {'email': 'example@gmail.com', 'password': '12345'},\n",
       " 'user2': {'email': 'example2@gmail.com', 'password': '12345'},\n",
       " 'user3': {'email': 'example3@gmail.com', 'password': '12345'},\n",
       " 'user4': {'email': 'example4@gmail.com', 'password': '12345'}}"
      ]
     },
     "execution_count": 42,
     "metadata": {},
     "output_type": "execute_result"
    }
   ],
   "source": [
    "users2"
   ]
  },
  {
   "cell_type": "code",
   "execution_count": 37,
   "id": "fd707eaf",
   "metadata": {},
   "outputs": [],
   "source": [
    "class userandpassnotfoundexception(Exception):\n",
    "    pass"
   ]
  },
  {
   "cell_type": "code",
   "execution_count": 63,
   "id": "16267adb",
   "metadata": {},
   "outputs": [],
   "source": [
    "def login(user, password):\n",
    "    try:\n",
    "        if user == \"example@gmail.com\" and password == \"12345\":\n",
    "            print(\"login success\")\n",
    "        else:\n",
    "            raise userandpassnotfoundexception\n",
    "    except userandpassnotfoundexception as e:\n",
    "        print(\"Credentail does not matched\")\n",
    "    except Exception as e:\n",
    "        print(e)"
   ]
  },
  {
   "cell_type": "code",
   "execution_count": 64,
   "id": "2a3a083d",
   "metadata": {},
   "outputs": [
    {
     "name": "stdout",
     "output_type": "stream",
     "text": [
      "Credentail does not matched\n"
     ]
    }
   ],
   "source": [
    "login(\"example@gmail.com\", \"1234\")"
   ]
  },
  {
   "cell_type": "code",
   "execution_count": 66,
   "id": "8f13fe57",
   "metadata": {},
   "outputs": [
    {
     "name": "stdout",
     "output_type": "stream",
     "text": [
      "0\n",
      " not allowed divided by 0\n"
     ]
    }
   ],
   "source": [
    "try:\n",
    "    number = int(input())\n",
    "    if number == 0:\n",
    "        raise ZeroDivisionError\n",
    "    print(100/number)\n",
    "except ZeroDivisionError as e:\n",
    "    print(e, \"not allowed divided by 0\")"
   ]
  },
  {
   "cell_type": "code",
   "execution_count": null,
   "id": "be4a3e6b",
   "metadata": {},
   "outputs": [],
   "source": []
  }
 ],
 "metadata": {
  "kernelspec": {
   "display_name": "Python 3 (ipykernel)",
   "language": "python",
   "name": "python3"
  },
  "language_info": {
   "codemirror_mode": {
    "name": "ipython",
    "version": 3
   },
   "file_extension": ".py",
   "mimetype": "text/x-python",
   "name": "python",
   "nbconvert_exporter": "python",
   "pygments_lexer": "ipython3",
   "version": "3.9.7"
  }
 },
 "nbformat": 4,
 "nbformat_minor": 5
}
