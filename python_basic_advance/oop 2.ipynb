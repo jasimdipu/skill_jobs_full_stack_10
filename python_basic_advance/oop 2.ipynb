{
 "cells": [
  {
   "cell_type": "markdown",
   "id": "dcb8b65e",
   "metadata": {},
   "source": [
    "# Encapsulation, Inheritance "
   ]
  },
  {
   "cell_type": "code",
   "execution_count": 15,
   "id": "b5d387d3",
   "metadata": {},
   "outputs": [],
   "source": [
    "class Student():\n",
    "    # private(__), protected(_), public\n",
    "    def __init__(self, name, dept):\n",
    "        self.__name = name\n",
    "        self.__dept = dept\n",
    "        \n",
    "    def get_name(self):\n",
    "        return self.__name\n",
    "    \n",
    "    def get_dept(self):\n",
    "        return self.__dept\n",
    "    \n",
    "    def set_name(self, name):\n",
    "        self.__name = name\n",
    "        \n",
    "    def set_dept(self, dept):\n",
    "        self.__dept = dept\n",
    "    \n",
    "    def __str__(self,):\n",
    "        return self.__name+\" \"+self.__dept"
   ]
  },
  {
   "cell_type": "code",
   "execution_count": 16,
   "id": "fc056c2a",
   "metadata": {},
   "outputs": [],
   "source": [
    "student = Student(\"Adnan\", \"CSE\")"
   ]
  },
  {
   "cell_type": "code",
   "execution_count": 10,
   "id": "b48431f6",
   "metadata": {},
   "outputs": [
    {
     "name": "stdout",
     "output_type": "stream",
     "text": [
      "Adnan CSE\n"
     ]
    }
   ],
   "source": [
    "print(student)"
   ]
  },
  {
   "cell_type": "code",
   "execution_count": 11,
   "id": "d2826883",
   "metadata": {},
   "outputs": [
    {
     "data": {
      "text/plain": [
       "'Adnan'"
      ]
     },
     "execution_count": 11,
     "metadata": {},
     "output_type": "execute_result"
    }
   ],
   "source": [
    "student.get_name()"
   ]
  },
  {
   "cell_type": "code",
   "execution_count": 12,
   "id": "a2d2bb6c",
   "metadata": {},
   "outputs": [],
   "source": [
    "# student.name = \"Sharif\""
   ]
  },
  {
   "cell_type": "code",
   "execution_count": 12,
   "id": "d46476bf",
   "metadata": {},
   "outputs": [
    {
     "data": {
      "text/plain": [
       "'CSE'"
      ]
     },
     "execution_count": 12,
     "metadata": {},
     "output_type": "execute_result"
    }
   ],
   "source": [
    "student.get_dept()"
   ]
  },
  {
   "cell_type": "code",
   "execution_count": 6,
   "id": "ca81bf97",
   "metadata": {},
   "outputs": [
    {
     "data": {
      "text/plain": [
       "1715184519296"
      ]
     },
     "execution_count": 6,
     "metadata": {},
     "output_type": "execute_result"
    }
   ],
   "source": [
    "id(student)"
   ]
  },
  {
   "cell_type": "code",
   "execution_count": null,
   "id": "430f9477",
   "metadata": {},
   "outputs": [],
   "source": []
  }
 ],
 "metadata": {
  "kernelspec": {
   "display_name": "Python 3 (ipykernel)",
   "language": "python",
   "name": "python3"
  },
  "language_info": {
   "codemirror_mode": {
    "name": "ipython",
    "version": 3
   },
   "file_extension": ".py",
   "mimetype": "text/x-python",
   "name": "python",
   "nbconvert_exporter": "python",
   "pygments_lexer": "ipython3",
   "version": "3.9.7"
  }
 },
 "nbformat": 4,
 "nbformat_minor": 5
}
