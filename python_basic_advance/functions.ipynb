{
 "cells": [
  {
   "cell_type": "code",
   "execution_count": 3,
   "id": "1a239651",
   "metadata": {},
   "outputs": [],
   "source": [
    "def find_number():\n",
    "    l = [1, 2, 3, 4.5, 5.5, 6.5, \"7\", \"8\", \"9\", True, False]\n",
    "    val = int(input())\n",
    "    for i in l:\n",
    "        if i == val:\n",
    "            print(\"True\")\n",
    "            break\n",
    "    else:\n",
    "        print(val, \" is not int the list\")"
   ]
  },
  {
   "cell_type": "code",
   "execution_count": 4,
   "id": "85134067",
   "metadata": {},
   "outputs": [
    {
     "name": "stdout",
     "output_type": "stream",
     "text": [
      "2\n",
      "True\n"
     ]
    }
   ],
   "source": [
    "find_number()"
   ]
  },
  {
   "cell_type": "code",
   "execution_count": 5,
   "id": "7d9938e5",
   "metadata": {},
   "outputs": [],
   "source": [
    "def function_1():\n",
    "    print(\"My Function\")"
   ]
  },
  {
   "cell_type": "code",
   "execution_count": 6,
   "id": "541bcf15",
   "metadata": {},
   "outputs": [
    {
     "name": "stdout",
     "output_type": "stream",
     "text": [
      "My Function\n"
     ]
    }
   ],
   "source": [
    "function_1()"
   ]
  },
  {
   "cell_type": "code",
   "execution_count": 7,
   "id": "932b689d",
   "metadata": {},
   "outputs": [],
   "source": [
    "# return\n",
    "def function_2():\n",
    "    return \"My second function\""
   ]
  },
  {
   "cell_type": "code",
   "execution_count": 8,
   "id": "2c25aa2d",
   "metadata": {},
   "outputs": [
    {
     "data": {
      "text/plain": [
       "'My second function'"
      ]
     },
     "execution_count": 8,
     "metadata": {},
     "output_type": "execute_result"
    }
   ],
   "source": [
    "function_2()"
   ]
  },
  {
   "cell_type": "code",
   "execution_count": 10,
   "id": "b1aca893",
   "metadata": {},
   "outputs": [
    {
     "name": "stdout",
     "output_type": "stream",
     "text": [
      "My Function\n"
     ]
    }
   ],
   "source": [
    "print_val = function_1()\n",
    "return_val = function_2()"
   ]
  },
  {
   "cell_type": "code",
   "execution_count": 11,
   "id": "f5ed4cc1",
   "metadata": {},
   "outputs": [
    {
     "data": {
      "text/plain": [
       "(None, 'My second function')"
      ]
     },
     "execution_count": 11,
     "metadata": {},
     "output_type": "execute_result"
    }
   ],
   "source": [
    "print_val, return_val"
   ]
  },
  {
   "cell_type": "code",
   "execution_count": 13,
   "id": "da685e34",
   "metadata": {},
   "outputs": [
    {
     "data": {
      "text/plain": [
       "str"
      ]
     },
     "execution_count": 13,
     "metadata": {},
     "output_type": "execute_result"
    }
   ],
   "source": [
    "type(return_val)"
   ]
  },
  {
   "cell_type": "code",
   "execution_count": 14,
   "id": "abd07961",
   "metadata": {},
   "outputs": [
    {
     "data": {
      "text/plain": [
       "'My second functionMy second function'"
      ]
     },
     "execution_count": 14,
     "metadata": {},
     "output_type": "execute_result"
    }
   ],
   "source": [
    "return_val*2"
   ]
  },
  {
   "cell_type": "code",
   "execution_count": 15,
   "id": "fdbe51e3",
   "metadata": {},
   "outputs": [
    {
     "data": {
      "text/plain": [
       "'My second functionMy second function'"
      ]
     },
     "execution_count": 15,
     "metadata": {},
     "output_type": "execute_result"
    }
   ],
   "source": [
    "function_2()*2"
   ]
  },
  {
   "cell_type": "code",
   "execution_count": 19,
   "id": "8bdcf2e6",
   "metadata": {},
   "outputs": [],
   "source": [
    "def function_3(number):\n",
    "    return number+200"
   ]
  },
  {
   "cell_type": "code",
   "execution_count": 21,
   "id": "8428eab0",
   "metadata": {},
   "outputs": [
    {
     "data": {
      "text/plain": [
       "300"
      ]
     },
     "execution_count": 21,
     "metadata": {},
     "output_type": "execute_result"
    }
   ],
   "source": [
    "function_3(100)"
   ]
  },
  {
   "cell_type": "code",
   "execution_count": 23,
   "id": "7aeabe2c",
   "metadata": {},
   "outputs": [],
   "source": [
    "def function_4(number1, num2, num3):\n",
    "    return number1+num2+num3"
   ]
  },
  {
   "cell_type": "code",
   "execution_count": 24,
   "id": "d24af4bc",
   "metadata": {},
   "outputs": [
    {
     "data": {
      "text/plain": [
       "60"
      ]
     },
     "execution_count": 24,
     "metadata": {},
     "output_type": "execute_result"
    }
   ],
   "source": [
    "function_4(10, 20, 30)"
   ]
  },
  {
   "cell_type": "code",
   "execution_count": 25,
   "id": "f5f76832",
   "metadata": {},
   "outputs": [],
   "source": [
    "def function_5(*numbers):\n",
    "    return numbers"
   ]
  },
  {
   "cell_type": "code",
   "execution_count": 28,
   "id": "c8b1b002",
   "metadata": {},
   "outputs": [
    {
     "data": {
      "text/plain": [
       "(1, 2, 3, 4, 5, 6, 7, 8, 9, 'number')"
      ]
     },
     "execution_count": 28,
     "metadata": {},
     "output_type": "execute_result"
    }
   ],
   "source": [
    "function_5(1, 2, 3, 4, 5, 6 ,7 ,8 ,9, \"number\")"
   ]
  },
  {
   "cell_type": "code",
   "execution_count": 39,
   "id": "daafcf6a",
   "metadata": {},
   "outputs": [],
   "source": [
    "def get_info(name, age, dept, **kwargs):\n",
    "    return kwargs"
   ]
  },
  {
   "cell_type": "code",
   "execution_count": 42,
   "id": "cf10a105",
   "metadata": {},
   "outputs": [
    {
     "data": {
      "text/plain": [
       "{'salary': '20000', 'comm': 1200}"
      ]
     },
     "execution_count": 42,
     "metadata": {},
     "output_type": "execute_result"
    }
   ],
   "source": [
    "get_info(\"raihan\", \"25\", \"IT\", salary=\"20000\", comm = 1200)"
   ]
  },
  {
   "cell_type": "code",
   "execution_count": 48,
   "id": "873e26bc",
   "metadata": {},
   "outputs": [],
   "source": [
    "def function_6(name=\"\", age=0, *args, **kwargs):\n",
    "    pass"
   ]
  },
  {
   "cell_type": "code",
   "execution_count": 50,
   "id": "ffbc42d6",
   "metadata": {},
   "outputs": [],
   "source": [
    "function_6(salary=\"20000\", comm = 1200)"
   ]
  },
  {
   "cell_type": "code",
   "execution_count": 51,
   "id": "9ca50db5",
   "metadata": {},
   "outputs": [],
   "source": [
    "# nested function\n",
    "def outer_func():\n",
    "    def inner_func():\n",
    "        return \"Inner function\"\n",
    "    return inner_func()"
   ]
  },
  {
   "cell_type": "code",
   "execution_count": 52,
   "id": "18e3dc82",
   "metadata": {},
   "outputs": [
    {
     "data": {
      "text/plain": [
       "'Inner function'"
      ]
     },
     "execution_count": 52,
     "metadata": {},
     "output_type": "execute_result"
    }
   ],
   "source": [
    "outer_func()"
   ]
  },
  {
   "cell_type": "code",
   "execution_count": 55,
   "id": "4a30a27b",
   "metadata": {},
   "outputs": [],
   "source": [
    "def outer_func(num):\n",
    "    def inner_func(num2):\n",
    "        return \"Inner function {}\".format(num2)\n",
    "    return inner_func(num)"
   ]
  },
  {
   "cell_type": "code",
   "execution_count": 56,
   "id": "fd037adf",
   "metadata": {},
   "outputs": [
    {
     "data": {
      "text/plain": [
       "'Inner function 100'"
      ]
     },
     "execution_count": 56,
     "metadata": {},
     "output_type": "execute_result"
    }
   ],
   "source": [
    "outer_func(100)"
   ]
  },
  {
   "cell_type": "code",
   "execution_count": 57,
   "id": "b80841b7",
   "metadata": {},
   "outputs": [],
   "source": [
    "number_collection = function_5"
   ]
  },
  {
   "cell_type": "code",
   "execution_count": 58,
   "id": "d3aa372c",
   "metadata": {},
   "outputs": [
    {
     "data": {
      "text/plain": [
       "(10, 20, 30, 40)"
      ]
     },
     "execution_count": 58,
     "metadata": {},
     "output_type": "execute_result"
    }
   ],
   "source": [
    "number_collection(10, 20, 30, 40)"
   ]
  },
  {
   "cell_type": "code",
   "execution_count": 59,
   "id": "216156b7",
   "metadata": {},
   "outputs": [],
   "source": [
    "# lambda function\n",
    "getnumber = lambda x: x"
   ]
  },
  {
   "cell_type": "code",
   "execution_count": 60,
   "id": "7c9ad08b",
   "metadata": {},
   "outputs": [
    {
     "data": {
      "text/plain": [
       "100"
      ]
     },
     "execution_count": 60,
     "metadata": {},
     "output_type": "execute_result"
    }
   ],
   "source": [
    "getnumber(100)"
   ]
  },
  {
   "cell_type": "code",
   "execution_count": 65,
   "id": "140af199",
   "metadata": {},
   "outputs": [],
   "source": [
    "getnumber = lambda x, y: x+y if x >= 100 and y <= 50 else x*y"
   ]
  },
  {
   "cell_type": "code",
   "execution_count": 68,
   "id": "3997a733",
   "metadata": {},
   "outputs": [
    {
     "data": {
      "text/plain": [
       "500"
      ]
     },
     "execution_count": 68,
     "metadata": {},
     "output_type": "execute_result"
    }
   ],
   "source": [
    "getnumber(10, 50)"
   ]
  },
  {
   "cell_type": "code",
   "execution_count": null,
   "id": "cc133580",
   "metadata": {},
   "outputs": [],
   "source": []
  }
 ],
 "metadata": {
  "kernelspec": {
   "display_name": "Python 3 (ipykernel)",
   "language": "python",
   "name": "python3"
  },
  "language_info": {
   "codemirror_mode": {
    "name": "ipython",
    "version": 3
   },
   "file_extension": ".py",
   "mimetype": "text/x-python",
   "name": "python",
   "nbconvert_exporter": "python",
   "pygments_lexer": "ipython3",
   "version": "3.9.7"
  }
 },
 "nbformat": 4,
 "nbformat_minor": 5
}
